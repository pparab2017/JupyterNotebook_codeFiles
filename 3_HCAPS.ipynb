{
 "cells": [
  {
   "cell_type": "markdown",
   "metadata": {
    "deletable": true,
    "editable": true
   },
   "source": [
    "### Hospital Consumer Assessment of Healthcare Providers and Systems (April 2015 -March 2016)"
   ]
  },
  {
   "cell_type": "code",
   "execution_count": 1,
   "metadata": {
    "collapsed": false,
    "deletable": true,
    "editable": true
   },
   "outputs": [
    {
     "name": "stdout",
     "output_type": "stream",
     "text": [
      "Populating the interactive namespace from numpy and matplotlib\n"
     ]
    }
   ],
   "source": [
    "import os\n",
    "import sys\n",
    "from pyspark import SparkContext\n",
    "import matplotlib.pyplot as plt\n",
    "import numpy as np\n",
    "from pyspark.sql import SparkSession\n",
    "%matplotlib inline\n",
    "%pylab inline\n",
    "matplotlib.rcParams['figure.figsize'] = (10, 6)\n",
    "\n",
    "NationalRate = \"/Users/pushparajparab/Desktop/Hospital_Revised_Flatfiles/HCAHPS__Hospital.csv\"\n",
    "df = sqlContext.read.format('com.databricks.spark.csv').options(header='true', inferschema='true').load(NationalRate)\n",
    "\n",
    "df.registerTempTable('Mytable')\n",
    "\n",
    "\n",
    "query = \" SELECT Hospital_Name,HCAHPS_Answer_Description,Patient_Survey_Star_Rating\"\n",
    "query += \" FROM MyTable M\"\n",
    "query += \" WHERE HCAHPS_Answer_Description LIKE '%star rating%'\"\n",
    "query += \" AND Patient_Survey_Star_Rating != 'Not Available'\"\n",
    "query += \" order by M.Hospital_Name,HCAHPS_Answer_Description\"\n",
    "distint = spark.sql(query)\n",
    "# distint.show(20, False)\n",
    "# Complications = \"/Users/pushparajparab/Desktop/Hospital_Revised_Flatfiles/Complications_Hospital.csv\";\n",
    "# df = sqlContext.read.format('com.databricks.spark.csv').options(header='true', inferschema='true').load(Complications)\n",
    "# df.registerTempTable('Data')\n",
    "\n",
    "\n",
    "query = \" SELECT HCAHPS_Answer_Description,Patient_Survey_Star_Rating,count(Patient_Survey_Star_Rating) as count\"\n",
    "query += \" FROM MyTable M\"\n",
    "query += \" WHERE HCAHPS_Answer_Description LIKE '%star rating%'\"\n",
    "query += \" AND HCAHPS_Answer_Description NOT LIKE '%Recommend%'\"\n",
    "query += \" AND HCAHPS_Answer_Description NOT LIKE '%Summary%'\"\n",
    "query += \" AND HCAHPS_Answer_Description NOT LIKE '%Overall%'\"\n",
    "query += \" AND Patient_Survey_Star_Rating != 'Not Available'\"\n",
    "query += \" group by M.Patient_Survey_Star_Rating,HCAHPS_Answer_Description\"\n",
    "query += \" order by count(Patient_Survey_Star_Rating) desc\"\n",
    "distint = spark.sql(query)\n",
    "# distint.show(20, False)\n",
    "\n",
    "_size =[]\n",
    "_text = []\n",
    "_x=[]\n",
    "_y=[]\n",
    "_dataList = distint.collect()\n",
    "for i in range(len(_dataList)):\n",
    "    _x.append(_dataList[i][0])\n",
    "    _y.append(_dataList[i][1])\n",
    "    _size.append(_dataList[i][2]*0.08)\n",
    "    _text.append('Count: '+ str(_dataList[i][2]))\n"
   ]
  },
  {
   "cell_type": "code",
   "execution_count": 2,
   "metadata": {
    "collapsed": false,
    "deletable": true,
    "editable": true,
    "scrolled": false
   },
   "outputs": [
    {
     "data": {
      "text/html": [
       "<iframe id=\"igraph\" scrolling=\"no\" style=\"border:none;\" seamless=\"seamless\" src=\"https://plot.ly/~pparab/13.embed\" height=\"525px\" width=\"100%\"></iframe>"
      ],
      "text/plain": [
       "<plotly.tools.PlotlyDisplay object>"
      ]
     },
     "execution_count": 2,
     "metadata": {},
     "output_type": "execute_result"
    }
   ],
   "source": [
    "import plotly\n",
    "# Set Plotly credetials\n",
    "\n",
    "plotly.tools.set_credentials_file(username='pparab', api_key='jgQSn7NrsQAUnpx26Aks')\n",
    "import plotly.plotly as py\n",
    "import plotly.tools as plotly_tools\n",
    "import plotly.graph_objs as go\n",
    "from plotly.graph_objs import *\n",
    " #Sign in the plotly API\n",
    "py.sign_in(\"pparab\", \"jgQSn7NrsQAUnpx26Aks\")\n",
    "\n",
    "trace0 = go.Scatter(\n",
    "    x=_x,\n",
    "    y=_y,\n",
    "    text=_text,\n",
    "    mode='markers',\n",
    "    marker=dict(\n",
    "        size=_size,\n",
    "    )\n",
    ")\n",
    "\n",
    "data = [trace0]\n",
    "py.iplot(data, filename='bubblechart-size')"
   ]
  },
  {
   "cell_type": "code",
   "execution_count": 3,
   "metadata": {
    "collapsed": false,
    "deletable": true,
    "editable": true,
    "scrolled": false
   },
   "outputs": [],
   "source": [
    "import ipywidgets as widgets\n",
    "from IPython.display import clear_output \n",
    "\n",
    "\n",
    "\n",
    "query = \" SELECT DISTINCT State\"\n",
    "query += \" FROM MyTable D\"\n",
    "query += \" ORDER BY State\"\n",
    "plt.style.use('fivethirtyeight')#assign the style for the plot\n",
    "distint = spark.sql(query)\n",
    "_dataList = distint.collect()\n",
    "_states =[]\n",
    "_selectedState = \"\"\n",
    "for i in range(len(_dataList)):\n",
    "    _states.append(_dataList[i][0])\n",
    "\n",
    "select = widgets.Dropdown(\n",
    "    options=_states,\n",
    "#      value='AZ',\n",
    "    description='State:',\n",
    "    disabled=False\n",
    ")\n",
    "display(select)\n",
    "\n",
    "o_query = \" SELECT HCAHPS_Answer_Description,Patient_Survey_Star_Rating,count(Patient_Survey_Star_Rating) as count\"\n",
    "o_query += \" FROM MyTable M\"\n",
    "o_query += \" WHERE HCAHPS_Answer_Description LIKE '%star rating%'\"\n",
    "o_query += \" AND HCAHPS_Answer_Description NOT LIKE '%Recommend%'\"\n",
    "o_query += \" AND HCAHPS_Answer_Description NOT LIKE '%Summary%'\"\n",
    "o_query += \" AND HCAHPS_Answer_Description NOT LIKE '%Overall%'\"\n",
    "o_query += \" AND Patient_Survey_Star_Rating != 'Not Available'\"\n",
    "\n",
    "distint = spark.sql(query)\n",
    "# distint.show(20, False)\n",
    "\n",
    "_size =[]\n",
    "_text = []\n",
    "_x=[]\n",
    "_y=[]\n",
    "_SelectedState = [\"NA\"]\n",
    "\n",
    "def on_change(change):\n",
    "    if change['type'] == 'change' and change['name'] == 'value':\n",
    "        clear_output()\n",
    "        \n",
    "        del _size[:]\n",
    "        del _text[:]\n",
    "        del _x[:]\n",
    "        del _y[:]\n",
    "        _SelectedState[0] = change['new']\n",
    "        _selectedState = change['new']\n",
    "        query = o_query + \" AND State = '\"\n",
    "        query += _selectedState\n",
    "        query += \"' group by M.Patient_Survey_Star_Rating,HCAHPS_Answer_Description\"\n",
    "        query += \" order by count(Patient_Survey_Star_Rating) desc\"\n",
    "#         print(query)\n",
    "        results = spark.sql(query);\n",
    "#         results.show(20, False)\n",
    "\n",
    "        _dataList = results.collect()\n",
    "        for i in range(len(_dataList)):\n",
    "            _x.append(_dataList[i][0])\n",
    "            _y.append(_dataList[i][1])\n",
    "            _size.append(_dataList[i][2])\n",
    "            _text.append('Count: '+ str(_dataList[i][2]))\n",
    "\n",
    "\n",
    "select.observe(on_change)\n",
    "clear_output()"
   ]
  },
  {
   "cell_type": "code",
   "execution_count": 4,
   "metadata": {
    "collapsed": false,
    "deletable": true,
    "editable": true
   },
   "outputs": [
    {
     "name": "stdout",
     "output_type": "stream",
     "text": [
      "Plotting for:NC\n"
     ]
    },
    {
     "data": {
      "text/html": [
       "<iframe id=\"igraph\" scrolling=\"no\" style=\"border:none;\" seamless=\"seamless\" src=\"https://plot.ly/~pparab/13.embed\" height=\"525px\" width=\"100%\"></iframe>"
      ],
      "text/plain": [
       "<plotly.tools.PlotlyDisplay object>"
      ]
     },
     "execution_count": 4,
     "metadata": {},
     "output_type": "execute_result"
    }
   ],
   "source": [
    "print(\"Plotting for:\" + _SelectedState[0])\n",
    "trace0 = go.Scatter(\n",
    "    x=_x,\n",
    "    y=_y,\n",
    "    text=_text,\n",
    "    mode='markers',\n",
    "    marker=dict(\n",
    "        size=_size\n",
    "    )\n",
    ")\n",
    "\n",
    "data = [trace0]\n",
    "py.iplot(data, filename='bubblechart-size')\n",
    "\n"
   ]
  },
  {
   "cell_type": "markdown",
   "metadata": {
    "deletable": true,
    "editable": true
   },
   "source": [
    "# Rating below 2"
   ]
  },
  {
   "cell_type": "code",
   "execution_count": 5,
   "metadata": {
    "collapsed": false,
    "deletable": true,
    "editable": true
   },
   "outputs": [
    {
     "data": {
      "text/html": [
       "<iframe id=\"igraph\" scrolling=\"no\" style=\"border:none;\" seamless=\"seamless\" src=\"https://plot.ly/~pparab/34.embed\" height=\"900px\" width=\"900px\"></iframe>"
      ],
      "text/plain": [
       "<plotly.tools.PlotlyDisplay object>"
      ]
     },
     "execution_count": 5,
     "metadata": {},
     "output_type": "execute_result"
    }
   ],
   "source": [
    "u_query = \"SELECT Hospital_Name,HCAHPS_Answer_Description FROM MyTable D\"\n",
    "u_query += \" WHERE HCAHPS_Answer_Description LIKE '%star rating%'\"\n",
    "u_query += \" AND HCAHPS_Answer_Description NOT LIKE '%Recommend%'\"\n",
    "u_query += \" AND HCAHPS_Answer_Description NOT LIKE '%Summary%'\"\n",
    "u_query += \" AND HCAHPS_Answer_Description NOT LIKE '%Overall%'\"\n",
    "u_query += \" AND Patient_Survey_Star_Rating != 'Not Available'\"\n",
    "u_query += \" AND (Patient_Survey_Star_Rating = 1 OR Patient_Survey_Star_Rating = 2 )\"\n",
    "u_query += \" AND State = '\"+_SelectedState[0]+\"'\"\n",
    "# u_query += \" and Hospital_Name='TULANE MEDICAL CENTER'\" \n",
    "u_query += \" ORDER BY Hospital_Name ASC\"\n",
    "u_result = spark.sql(u_query)\n",
    "u_result.registerTempTable('WTN')\n",
    "# u_result.show(20, False)\n",
    "\n",
    "_x=[]\n",
    "_y=[]\n",
    "\n",
    "_dataList = u_result.collect();\n",
    "for i in range(len(_dataList)):\n",
    "            _x.append(_dataList[i][0])\n",
    "            _y.append(_dataList[i][1])\n",
    "            \n",
    "trace = go.Scatter(\n",
    "    x = _x,\n",
    "    y = _y,\n",
    "    hoveron = 'points',\n",
    "    mode = 'markers',\n",
    "    marker =dict( \n",
    "        size = 8,\n",
    "        color = '#FF7070'\n",
    "    )\n",
    ")\n",
    "\n",
    "data = [trace]\n",
    "layout = go.Layout(\n",
    "    autosize=False,\n",
    "    width=900,\n",
    "    height=900,\n",
    "    margin=go.Margin(\n",
    "        l=340,\n",
    "        r=200,\n",
    "        b=300,\n",
    "        t=250,\n",
    "        pad=4\n",
    "    ),\n",
    "    paper_bgcolor='#fff',\n",
    "    plot_bgcolor='#fff'\n",
    ")\n",
    "fig = go.Figure(data=data, layout=layout)\n",
    "py.iplot(fig, filename='basic-scatter_HCAPS_Low')"
   ]
  },
  {
   "cell_type": "markdown",
   "metadata": {
    "deletable": true,
    "editable": true
   },
   "source": [
    "# Rating more then 4"
   ]
  },
  {
   "cell_type": "code",
   "execution_count": 6,
   "metadata": {
    "collapsed": false,
    "deletable": true,
    "editable": true
   },
   "outputs": [
    {
     "data": {
      "text/html": [
       "<iframe id=\"igraph\" scrolling=\"no\" style=\"border:none;\" seamless=\"seamless\" src=\"https://plot.ly/~pparab/36.embed\" height=\"900px\" width=\"900px\"></iframe>"
      ],
      "text/plain": [
       "<plotly.tools.PlotlyDisplay object>"
      ]
     },
     "execution_count": 6,
     "metadata": {},
     "output_type": "execute_result"
    }
   ],
   "source": [
    "u_query = \"SELECT Hospital_Name,HCAHPS_Answer_Description FROM MyTable D\"\n",
    "u_query += \" WHERE HCAHPS_Answer_Description LIKE '%star rating%'\"\n",
    "u_query += \" AND HCAHPS_Answer_Description NOT LIKE '%Recommend%'\"\n",
    "u_query += \" AND HCAHPS_Answer_Description NOT LIKE '%Summary%'\"\n",
    "u_query += \" AND HCAHPS_Answer_Description NOT LIKE '%Overall%'\"\n",
    "u_query += \" AND Patient_Survey_Star_Rating != 'Not Available'\"\n",
    "u_query += \" AND (Patient_Survey_Star_Rating = 4 OR Patient_Survey_Star_Rating = 5 )\"\n",
    "u_query += \" AND State = '\"+ _SelectedState[0] +\"'\"\n",
    "# u_query += \" and Hospital_Name='TULANE MEDICAL CENTER'\" \n",
    "u_query += \" ORDER BY Hospital_Name ASC\"\n",
    "u_result = spark.sql(u_query)\n",
    "u_result.registerTempTable('BTN')\n",
    "# u_result.show(20, False)\n",
    "\n",
    "_x=[]\n",
    "_y=[]\n",
    "\n",
    "_dataList = u_result.collect();\n",
    "for i in range(len(_dataList)):\n",
    "            _x.append(_dataList[i][0])\n",
    "            _y.append(_dataList[i][1])\n",
    "            \n",
    "trace = go.Scatter(\n",
    "    x = _x,\n",
    "    y = _y,\n",
    "    hoveron = 'points',\n",
    "    mode = 'markers',\n",
    "    marker =dict( \n",
    "        size = 8,\n",
    "        color = '#008000'\n",
    "    )\n",
    ")\n",
    "\n",
    "data = [trace]\n",
    "layout = go.Layout(\n",
    "    autosize=False,\n",
    "    width=900,\n",
    "    height=900,\n",
    "    margin=go.Margin(\n",
    "        l=340,\n",
    "        r=200,\n",
    "        b=300,\n",
    "        t=250,\n",
    "        pad=4\n",
    "    ),\n",
    "    paper_bgcolor='#fff',\n",
    "    plot_bgcolor='#fff'\n",
    ")\n",
    "fig = go.Figure(data=data, layout=layout)\n",
    "py.iplot(fig, filename='basic-scatter_HCAPS_High')"
   ]
  }
 ],
 "metadata": {
  "kernelspec": {
   "display_name": "Python 3",
   "language": "python",
   "name": "python3"
  },
  "language_info": {
   "codemirror_mode": {
    "name": "ipython",
    "version": 3
   },
   "file_extension": ".py",
   "mimetype": "text/x-python",
   "name": "python",
   "nbconvert_exporter": "python",
   "pygments_lexer": "ipython3",
   "version": "3.5.3"
  },
  "widgets": {
   "state": {
    "11b92a6b82094be687a957c4a7262bbb": {
     "views": [
      {
       "cell_index": 3
      }
     ]
    }
   },
   "version": "1.2.0"
  }
 },
 "nbformat": 4,
 "nbformat_minor": 2
}
